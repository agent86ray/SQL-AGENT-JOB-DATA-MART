{
    "metadata": {
        "kernelspec": {
            "name": "SQL",
            "display_name": "SQL",
            "language": "sql"
        },
        "language_info": {
            "name": "sql",
            "version": ""
        }
    },
    "nbformat_minor": 2,
    "nbformat": 4,
    "cells": [
        {
            "cell_type": "markdown",
            "source": [
                "View the results from running the PROCESS SQL AGENT DATA MART HISTORY SQL Agent job. It accumulates the history of jobs run."
            ],
            "metadata": {
                "azdata_cell_guid": "e3e9f22e-5c15-4b49-87cf-9eb5d793240a"
            }
        },
        {
            "cell_type": "markdown",
            "source": [
                "View the log for today. Incremental update based on BEGIN\\_INSTANCE\\_ID and END\\_INSTANCE\\_ID."
            ],
            "metadata": {
                "azdata_cell_guid": "d0c35aee-5699-4735-b16e-35b7f511ec1d"
            }
        },
        {
            "cell_type": "code",
            "source": [
                "DECLARE @TODAY DATETIME = CONVERT(DATE, GETDATE());\r\n",
                "SELECT \r\n",
                "\t[ETL_KEY]\r\n",
                ",\t[START_DATE]\r\n",
                ",\t[END_DATE]\r\n",
                ",\t[BEGIN_INSTANCE_ID]\r\n",
                ",\tEND_INSTANCE_ID\r\n",
                "FROM [dbo].[ETL_HISTORY_LOG]\r\n",
                "WHERE [START_DATE] > @TODAY\r\n",
                "ORDER BY [START_DATE] DESC;\r\n",
                ""
            ],
            "metadata": {
                "azdata_cell_guid": "0721d648-c6f8-461d-bee2-73960b9c440c"
            },
            "outputs": [
                {
                    "output_type": "display_data",
                    "data": {
                        "text/html": "(6 rows affected)"
                    },
                    "metadata": {}
                },
                {
                    "output_type": "display_data",
                    "data": {
                        "text/html": "Total execution time: 00:00:00.005"
                    },
                    "metadata": {}
                },
                {
                    "output_type": "execute_result",
                    "metadata": {},
                    "execution_count": 2,
                    "data": {
                        "application/vnd.dataresource+json": {
                            "schema": {
                                "fields": [
                                    {
                                        "name": "ETL_KEY"
                                    },
                                    {
                                        "name": "START_DATE"
                                    },
                                    {
                                        "name": "END_DATE"
                                    },
                                    {
                                        "name": "BEGIN_INSTANCE_ID"
                                    },
                                    {
                                        "name": "END_INSTANCE_ID"
                                    }
                                ]
                            },
                            "data": [
                                {
                                    "0": "28",
                                    "1": "2020-10-16 07:23:00",
                                    "2": "NULL",
                                    "3": "658",
                                    "4": "670"
                                },
                                {
                                    "0": "27",
                                    "1": "2020-10-16 07:19:00",
                                    "2": "NULL",
                                    "3": "650",
                                    "4": "657"
                                },
                                {
                                    "0": "26",
                                    "1": "2020-10-16 07:10:00",
                                    "2": "NULL",
                                    "3": "619",
                                    "4": "649"
                                },
                                {
                                    "0": "25",
                                    "1": "2020-10-16 06:23:00",
                                    "2": "NULL",
                                    "3": "608",
                                    "4": "618"
                                },
                                {
                                    "0": "24",
                                    "1": "2020-10-16 06:20:00",
                                    "2": "NULL",
                                    "3": "577",
                                    "4": "607"
                                },
                                {
                                    "0": "23",
                                    "1": "2020-10-16 05:54:00",
                                    "2": "NULL",
                                    "3": "530",
                                    "4": "576"
                                }
                            ]
                        },
                        "text/html": [
                            "<table>",
                            "<tr><th>ETL_KEY</th><th>START_DATE</th><th>END_DATE</th><th>BEGIN_INSTANCE_ID</th><th>END_INSTANCE_ID</th></tr>",
                            "<tr><td>28</td><td>2020-10-16 07:23:00</td><td>NULL</td><td>658</td><td>670</td></tr>",
                            "<tr><td>27</td><td>2020-10-16 07:19:00</td><td>NULL</td><td>650</td><td>657</td></tr>",
                            "<tr><td>26</td><td>2020-10-16 07:10:00</td><td>NULL</td><td>619</td><td>649</td></tr>",
                            "<tr><td>25</td><td>2020-10-16 06:23:00</td><td>NULL</td><td>608</td><td>618</td></tr>",
                            "<tr><td>24</td><td>2020-10-16 06:20:00</td><td>NULL</td><td>577</td><td>607</td></tr>",
                            "<tr><td>23</td><td>2020-10-16 05:54:00</td><td>NULL</td><td>530</td><td>576</td></tr>",
                            "</table>"
                        ]
                    }
                }
            ],
            "execution_count": 2
        },
        {
            "cell_type": "markdown",
            "source": [
                "View the rows extracted from msdb.dbo.sysjobhistory."
            ],
            "metadata": {
                "azdata_cell_guid": "4ffc2829-4382-48d1-a051-d65dfc687538"
            }
        },
        {
            "cell_type": "code",
            "source": [
                "SELECT *\r\n",
                "FROM [staging].[vsysjobhistory] \r\n",
                "ORDER BY [instance_id];"
            ],
            "metadata": {
                "azdata_cell_guid": "261c7dd4-32cc-475a-8acb-4f913e2ae780"
            },
            "outputs": [
                {
                    "output_type": "display_data",
                    "data": {
                        "text/html": "(3 rows affected)"
                    },
                    "metadata": {}
                },
                {
                    "output_type": "display_data",
                    "data": {
                        "text/html": "Total execution time: 00:00:00.018"
                    },
                    "metadata": {}
                },
                {
                    "output_type": "execute_result",
                    "metadata": {},
                    "execution_count": 3,
                    "data": {
                        "application/vnd.dataresource+json": {
                            "schema": {
                                "fields": [
                                    {
                                        "name": "JOB_KEY"
                                    },
                                    {
                                        "name": "name"
                                    },
                                    {
                                        "name": "JOB_STEP_COUNT"
                                    },
                                    {
                                        "name": "instance_id"
                                    },
                                    {
                                        "name": "job_id"
                                    },
                                    {
                                        "name": "step_id"
                                    },
                                    {
                                        "name": "start_time"
                                    },
                                    {
                                        "name": "end_time"
                                    },
                                    {
                                        "name": "duration_seconds"
                                    },
                                    {
                                        "name": "INCLUDE"
                                    }
                                ]
                            },
                            "data": [
                                {
                                    "0": "160",
                                    "1": "ONE-TWO-MINUTE-JOB",
                                    "2": "2",
                                    "3": "666",
                                    "4": "03110e3d-571e-498f-8db3-aa1eb650a475",
                                    "5": "1",
                                    "6": "2020-10-16 07:20:19.000",
                                    "7": "2020-10-16 07:21:19.000",
                                    "8": "60",
                                    "9": "Y"
                                },
                                {
                                    "0": "160",
                                    "1": "ONE-TWO-MINUTE-JOB",
                                    "2": "2",
                                    "3": "669",
                                    "4": "03110e3d-571e-498f-8db3-aa1eb650a475",
                                    "5": "2",
                                    "6": "2020-10-16 07:21:19.000",
                                    "7": "2020-10-16 07:22:19.000",
                                    "8": "60",
                                    "9": "Y"
                                },
                                {
                                    "0": "160",
                                    "1": "ONE-TWO-MINUTE-JOB",
                                    "2": "2",
                                    "3": "670",
                                    "4": "03110e3d-571e-498f-8db3-aa1eb650a475",
                                    "5": "0",
                                    "6": "2020-10-16 07:20:19.000",
                                    "7": "2020-10-16 07:22:19.000",
                                    "8": "120",
                                    "9": "Y"
                                }
                            ]
                        },
                        "text/html": [
                            "<table>",
                            "<tr><th>JOB_KEY</th><th>name</th><th>JOB_STEP_COUNT</th><th>instance_id</th><th>job_id</th><th>step_id</th><th>start_time</th><th>end_time</th><th>duration_seconds</th><th>INCLUDE</th></tr>",
                            "<tr><td>160</td><td>ONE-TWO-MINUTE-JOB</td><td>2</td><td>666</td><td>03110e3d-571e-498f-8db3-aa1eb650a475</td><td>1</td><td>2020-10-16 07:20:19.000</td><td>2020-10-16 07:21:19.000</td><td>60</td><td>Y</td></tr>",
                            "<tr><td>160</td><td>ONE-TWO-MINUTE-JOB</td><td>2</td><td>669</td><td>03110e3d-571e-498f-8db3-aa1eb650a475</td><td>2</td><td>2020-10-16 07:21:19.000</td><td>2020-10-16 07:22:19.000</td><td>60</td><td>Y</td></tr>",
                            "<tr><td>160</td><td>ONE-TWO-MINUTE-JOB</td><td>2</td><td>670</td><td>03110e3d-571e-498f-8db3-aa1eb650a475</td><td>0</td><td>2020-10-16 07:20:19.000</td><td>2020-10-16 07:22:19.000</td><td>120</td><td>Y</td></tr>",
                            "</table>"
                        ]
                    }
                }
            ],
            "execution_count": 3
        },
        {
            "cell_type": "markdown",
            "source": [
                "Show JOB\\_INSTANCE and JOB\\_STEP\\_INSTANCE."
            ],
            "metadata": {
                "azdata_cell_guid": "23919a9e-1984-47b4-8290-893dd89eab3f"
            }
        },
        {
            "cell_type": "code",
            "source": [
                "DECLARE \r\n",
                "\t@ETL_KEY\t\t\tINT\r\n",
                ",\t@BEGIN_INSTANCE_ID\tINT\r\n",
                ",\t@END_INSTANCE_ID\tINT;\r\n",
                "\r\n",
                "EXEC [dbo].[GET_ETL_HISTORY_LOG]\r\n",
                "\t@P_ETL_KEY = @ETL_KEY OUTPUT\r\n",
                ",\t@P_BEGIN_INSTANCE_ID = @BEGIN_INSTANCE_ID OUTPUT\r\n",
                ",\t@P_END_INSTANCE_ID = @END_INSTANCE_ID OUTPUT;\r\n",
                "\r\n",
                "SELECT j.*\r\n",
                "FROM [dbo].[JOB_INSTANCE] j\r\n",
                "WHERE j.[INSTANCE_ID] BETWEEN @BEGIN_INSTANCE_ID AND @END_INSTANCE_ID;\r\n",
                "\r\n",
                "SELECT s.*\r\n",
                "FROM [dbo].[JOB_INSTANCE] j\r\n",
                "JOIN [dbo].[JOB_STEP_INSTANCE] s\r\n",
                "ON s.[JOB_INSTANCE_ID] = j.[INSTANCE_ID]\r\n",
                "WHERE j.[INSTANCE_ID] BETWEEN @BEGIN_INSTANCE_ID AND @END_INSTANCE_ID;\r\n",
                ""
            ],
            "metadata": {
                "azdata_cell_guid": "33aa1eea-b5b2-4545-9496-56079b902ab7"
            },
            "outputs": [
                {
                    "output_type": "display_data",
                    "data": {
                        "text/html": "(3 rows affected)"
                    },
                    "metadata": {}
                },
                {
                    "output_type": "display_data",
                    "data": {
                        "text/html": "(2 rows affected)"
                    },
                    "metadata": {}
                },
                {
                    "output_type": "display_data",
                    "data": {
                        "text/html": "Total execution time: 00:00:00.044"
                    },
                    "metadata": {}
                },
                {
                    "output_type": "execute_result",
                    "metadata": {},
                    "execution_count": 4,
                    "data": {
                        "application/vnd.dataresource+json": {
                            "schema": {
                                "fields": [
                                    {
                                        "name": "JOB_KEY"
                                    },
                                    {
                                        "name": "INSTANCE_ID"
                                    },
                                    {
                                        "name": "job_id"
                                    },
                                    {
                                        "name": "step_id"
                                    },
                                    {
                                        "name": "step_name"
                                    },
                                    {
                                        "name": "sql_message_id"
                                    },
                                    {
                                        "name": "sql_severity"
                                    },
                                    {
                                        "name": "message"
                                    },
                                    {
                                        "name": "run_status"
                                    },
                                    {
                                        "name": "run_date"
                                    },
                                    {
                                        "name": "run_time"
                                    },
                                    {
                                        "name": "run_duration"
                                    },
                                    {
                                        "name": "operator_id_emailed"
                                    },
                                    {
                                        "name": "operator_id_netsent"
                                    },
                                    {
                                        "name": "operator_id_paged"
                                    },
                                    {
                                        "name": "retries_attempted"
                                    },
                                    {
                                        "name": "server"
                                    },
                                    {
                                        "name": "start_time"
                                    },
                                    {
                                        "name": "end_time"
                                    },
                                    {
                                        "name": "duration_seconds"
                                    },
                                    {
                                        "name": "ETL_KEY"
                                    },
                                    {
                                        "name": "STAGING_KEY"
                                    }
                                ]
                            },
                            "data": [
                                {
                                    "0": "69",
                                    "1": "668",
                                    "2": "47101cf6-b170-440c-9397-d8bda4d856f5",
                                    "3": "0",
                                    "4": "(Job outcome)",
                                    "5": "0",
                                    "6": "0",
                                    "7": "The job succeeded.  The Job was invoked by User DESKTOP-CU621A8\\raymo.  The last step to run was step 1 (GET ACTIVE JOBS).",
                                    "8": "1",
                                    "9": "20201016",
                                    "10": "72200",
                                    "11": "4",
                                    "12": "0",
                                    "13": "0",
                                    "14": "0",
                                    "15": "0",
                                    "16": "DESKTOP-CU621A8",
                                    "17": "2020-10-16 07:22:00.000",
                                    "18": "2020-10-16 07:22:04.000",
                                    "19": "4",
                                    "20": "28",
                                    "21": "11"
                                },
                                {
                                    "0": "124",
                                    "1": "665",
                                    "2": "d78d06a4-cad5-4191-be1a-e14a639ff299",
                                    "3": "0",
                                    "4": "(Job outcome)",
                                    "5": "0",
                                    "6": "0",
                                    "7": "The job succeeded.  The Job was invoked by User DESKTOP-CU621A8\\raymo.  The last step to run was step 7 (CALCULATE JOB STEP AVERAGE DURATION).  The job was requested to start at step 1 (CREATE ETL HISTORY LOG).",
                                    "8": "1",
                                    "9": "20201016",
                                    "10": "71902",
                                    "11": "28",
                                    "12": "0",
                                    "13": "0",
                                    "14": "0",
                                    "15": "0",
                                    "16": "DESKTOP-CU621A8",
                                    "17": "2020-10-16 07:19:02.000",
                                    "18": "2020-10-16 07:19:30.000",
                                    "19": "28",
                                    "20": "28",
                                    "21": "8"
                                },
                                {
                                    "0": "160",
                                    "1": "670",
                                    "2": "03110e3d-571e-498f-8db3-aa1eb650a475",
                                    "3": "0",
                                    "4": "(Job outcome)",
                                    "5": "0",
                                    "6": "0",
                                    "7": "The job succeeded.  The Job was invoked by User DESKTOP-CU621A8\\raymo.  The last step to run was step 2 (STEP 2).  The job was requested to start at step 1 (STEP 1).",
                                    "8": "1",
                                    "9": "20201016",
                                    "10": "72019",
                                    "11": "200",
                                    "12": "0",
                                    "13": "0",
                                    "14": "0",
                                    "15": "0",
                                    "16": "DESKTOP-CU621A8",
                                    "17": "2020-10-16 07:20:19.000",
                                    "18": "2020-10-16 07:22:19.000",
                                    "19": "120",
                                    "20": "28",
                                    "21": "13"
                                }
                            ]
                        },
                        "text/html": [
                            "<table>",
                            "<tr><th>JOB_KEY</th><th>INSTANCE_ID</th><th>job_id</th><th>step_id</th><th>step_name</th><th>sql_message_id</th><th>sql_severity</th><th>message</th><th>run_status</th><th>run_date</th><th>run_time</th><th>run_duration</th><th>operator_id_emailed</th><th>operator_id_netsent</th><th>operator_id_paged</th><th>retries_attempted</th><th>server</th><th>start_time</th><th>end_time</th><th>duration_seconds</th><th>ETL_KEY</th><th>STAGING_KEY</th></tr>",
                            "<tr><td>69</td><td>668</td><td>47101cf6-b170-440c-9397-d8bda4d856f5</td><td>0</td><td>(Job outcome)</td><td>0</td><td>0</td><td>The job succeeded.  The Job was invoked by User DESKTOP-CU621A8\\raymo.  The last step to run was step 1 (GET ACTIVE JOBS).</td><td>1</td><td>20201016</td><td>72200</td><td>4</td><td>0</td><td>0</td><td>0</td><td>0</td><td>DESKTOP-CU621A8</td><td>2020-10-16 07:22:00.000</td><td>2020-10-16 07:22:04.000</td><td>4</td><td>28</td><td>11</td></tr>",
                            "<tr><td>124</td><td>665</td><td>d78d06a4-cad5-4191-be1a-e14a639ff299</td><td>0</td><td>(Job outcome)</td><td>0</td><td>0</td><td>The job succeeded.  The Job was invoked by User DESKTOP-CU621A8\\raymo.  The last step to run was step 7 (CALCULATE JOB STEP AVERAGE DURATION).  The job was requested to start at step 1 (CREATE ETL HISTORY LOG).</td><td>1</td><td>20201016</td><td>71902</td><td>28</td><td>0</td><td>0</td><td>0</td><td>0</td><td>DESKTOP-CU621A8</td><td>2020-10-16 07:19:02.000</td><td>2020-10-16 07:19:30.000</td><td>28</td><td>28</td><td>8</td></tr>",
                            "<tr><td>160</td><td>670</td><td>03110e3d-571e-498f-8db3-aa1eb650a475</td><td>0</td><td>(Job outcome)</td><td>0</td><td>0</td><td>The job succeeded.  The Job was invoked by User DESKTOP-CU621A8\\raymo.  The last step to run was step 2 (STEP 2).  The job was requested to start at step 1 (STEP 1).</td><td>1</td><td>20201016</td><td>72019</td><td>200</td><td>0</td><td>0</td><td>0</td><td>0</td><td>DESKTOP-CU621A8</td><td>2020-10-16 07:20:19.000</td><td>2020-10-16 07:22:19.000</td><td>120</td><td>28</td><td>13</td></tr>",
                            "</table>"
                        ]
                    }
                },
                {
                    "output_type": "execute_result",
                    "metadata": {},
                    "execution_count": 4,
                    "data": {
                        "application/vnd.dataresource+json": {
                            "schema": {
                                "fields": [
                                    {
                                        "name": "JOB_KEY"
                                    },
                                    {
                                        "name": "JOB_INSTANCE_ID"
                                    },
                                    {
                                        "name": "JOB_STEP_INSTANCE_ID"
                                    },
                                    {
                                        "name": "job_id"
                                    },
                                    {
                                        "name": "step_id"
                                    },
                                    {
                                        "name": "step_name"
                                    },
                                    {
                                        "name": "sql_message_id"
                                    },
                                    {
                                        "name": "sql_severity"
                                    },
                                    {
                                        "name": "message"
                                    },
                                    {
                                        "name": "run_status"
                                    },
                                    {
                                        "name": "run_date"
                                    },
                                    {
                                        "name": "run_time"
                                    },
                                    {
                                        "name": "run_duration"
                                    },
                                    {
                                        "name": "operator_id_emailed"
                                    },
                                    {
                                        "name": "operator_id_netsent"
                                    },
                                    {
                                        "name": "operator_id_paged"
                                    },
                                    {
                                        "name": "retries_attempted"
                                    },
                                    {
                                        "name": "server"
                                    },
                                    {
                                        "name": "start_time"
                                    },
                                    {
                                        "name": "end_time"
                                    },
                                    {
                                        "name": "duration_seconds"
                                    },
                                    {
                                        "name": "ETL_KEY"
                                    },
                                    {
                                        "name": "STAGING_KEY"
                                    }
                                ]
                            },
                            "data": [
                                {
                                    "0": "160",
                                    "1": "670",
                                    "2": "666",
                                    "3": "03110e3d-571e-498f-8db3-aa1eb650a475",
                                    "4": "1",
                                    "5": "STEP 1",
                                    "6": "0",
                                    "7": "0",
                                    "8": "Executed as user: NT SERVICE\\SQLSERVERAGENT. The step succeeded.",
                                    "9": "1",
                                    "10": "20201016",
                                    "11": "72019",
                                    "12": "100",
                                    "13": "0",
                                    "14": "0",
                                    "15": "0",
                                    "16": "0",
                                    "17": "DESKTOP-CU621A8",
                                    "18": "2020-10-16 07:20:19.000",
                                    "19": "2020-10-16 07:21:19.000",
                                    "20": "60",
                                    "21": "28",
                                    "22": "9"
                                },
                                {
                                    "0": "160",
                                    "1": "670",
                                    "2": "669",
                                    "3": "03110e3d-571e-498f-8db3-aa1eb650a475",
                                    "4": "2",
                                    "5": "STEP 2",
                                    "6": "0",
                                    "7": "0",
                                    "8": "Executed as user: NT SERVICE\\SQLSERVERAGENT. The step succeeded.",
                                    "9": "1",
                                    "10": "20201016",
                                    "11": "72119",
                                    "12": "100",
                                    "13": "0",
                                    "14": "0",
                                    "15": "0",
                                    "16": "0",
                                    "17": "DESKTOP-CU621A8",
                                    "18": "2020-10-16 07:21:19.000",
                                    "19": "2020-10-16 07:22:19.000",
                                    "20": "60",
                                    "21": "28",
                                    "22": "12"
                                }
                            ]
                        },
                        "text/html": [
                            "<table>",
                            "<tr><th>JOB_KEY</th><th>JOB_INSTANCE_ID</th><th>JOB_STEP_INSTANCE_ID</th><th>job_id</th><th>step_id</th><th>step_name</th><th>sql_message_id</th><th>sql_severity</th><th>message</th><th>run_status</th><th>run_date</th><th>run_time</th><th>run_duration</th><th>operator_id_emailed</th><th>operator_id_netsent</th><th>operator_id_paged</th><th>retries_attempted</th><th>server</th><th>start_time</th><th>end_time</th><th>duration_seconds</th><th>ETL_KEY</th><th>STAGING_KEY</th></tr>",
                            "<tr><td>160</td><td>670</td><td>666</td><td>03110e3d-571e-498f-8db3-aa1eb650a475</td><td>1</td><td>STEP 1</td><td>0</td><td>0</td><td>Executed as user: NT SERVICE\\SQLSERVERAGENT. The step succeeded.</td><td>1</td><td>20201016</td><td>72019</td><td>100</td><td>0</td><td>0</td><td>0</td><td>0</td><td>DESKTOP-CU621A8</td><td>2020-10-16 07:20:19.000</td><td>2020-10-16 07:21:19.000</td><td>60</td><td>28</td><td>9</td></tr>",
                            "<tr><td>160</td><td>670</td><td>669</td><td>03110e3d-571e-498f-8db3-aa1eb650a475</td><td>2</td><td>STEP 2</td><td>0</td><td>0</td><td>Executed as user: NT SERVICE\\SQLSERVERAGENT. The step succeeded.</td><td>1</td><td>20201016</td><td>72119</td><td>100</td><td>0</td><td>0</td><td>0</td><td>0</td><td>DESKTOP-CU621A8</td><td>2020-10-16 07:21:19.000</td><td>2020-10-16 07:22:19.000</td><td>60</td><td>28</td><td>12</td></tr>",
                            "</table>"
                        ]
                    }
                }
            ],
            "execution_count": 4
        },
        {
            "cell_type": "markdown",
            "source": [
                "Show the \"current\" jobs."
            ],
            "metadata": {
                "azdata_cell_guid": "3ba08702-d777-4c7e-b5ae-3b742443afa1"
            }
        },
        {
            "cell_type": "code",
            "source": [
                "SELECT *\r\n",
                "FROM [dbo].[vJOB_CURRENT]\r\n",
                "ORDER BY [name];\r\n",
                ""
            ],
            "metadata": {
                "azdata_cell_guid": "3c25869b-6092-4e7c-985e-2ea91da0a72b"
            },
            "outputs": [
                {
                    "output_type": "display_data",
                    "data": {
                        "text/html": "(8 rows affected)"
                    },
                    "metadata": {}
                },
                {
                    "output_type": "display_data",
                    "data": {
                        "text/html": "Total execution time: 00:00:00.006"
                    },
                    "metadata": {}
                },
                {
                    "output_type": "execute_result",
                    "metadata": {},
                    "execution_count": 7,
                    "data": {
                        "application/vnd.dataresource+json": {
                            "schema": {
                                "fields": [
                                    {
                                        "name": "JOB_KEY"
                                    },
                                    {
                                        "name": "name"
                                    },
                                    {
                                        "name": "job_id"
                                    },
                                    {
                                        "name": "JOB_STEP_COUNT"
                                    },
                                    {
                                        "name": "date_modified"
                                    }
                                ]
                            },
                            "data": [
                                {
                                    "0": "159",
                                    "1": "CRM ETL",
                                    "2": "6a2926a7-e4cf-4dcb-a6f3-e4e7581b0eff",
                                    "3": "2",
                                    "4": "2020-10-13 06:01:38.393"
                                },
                                {
                                    "0": "113",
                                    "1": "DEMO 15-25 MINUTES",
                                    "2": "8e05469b-cd8b-47ce-9f84-1f83215be9c1",
                                    "3": "1",
                                    "4": "2020-10-15 06:19:15.333"
                                },
                                {
                                    "0": "155",
                                    "1": "DEMO FOR SQL AGENT DATA MART",
                                    "2": "967696b7-b0fe-48ad-a216-8ee2cb7aa6fb",
                                    "3": "3",
                                    "4": "2020-10-15 05:40:10.767"
                                },
                                {
                                    "0": "160",
                                    "1": "ONE-TWO-MINUTE-JOB",
                                    "2": "03110e3d-571e-498f-8db3-aa1eb650a475",
                                    "3": "2",
                                    "4": "2020-10-16 06:15:30.793"
                                },
                                {
                                    "0": "64",
                                    "1": "PROCESS CRM CUBE",
                                    "2": "b61d15a8-3fd8-4a69-826d-c46e4f4b10cb",
                                    "3": "2",
                                    "4": "2020-10-13 06:02:55.457"
                                },
                                {
                                    "0": "62",
                                    "1": "REFRESH CRM DASHBOARD",
                                    "2": "2bddfb10-668f-44f2-b2ad-8b2845151dc6",
                                    "3": "1",
                                    "4": "2020-10-13 05:59:20.770"
                                },
                                {
                                    "0": "103",
                                    "1": "REFRESH EXECUTIVE DASHBOARD",
                                    "2": "b0a5aa37-9ea5-41ed-9143-b8122fdd5d88",
                                    "3": "1",
                                    "4": "2020-10-14 05:18:18.060"
                                },
                                {
                                    "0": "40",
                                    "1": "TEST sysjobactivity QUERY",
                                    "2": "6a57c77c-558e-44b0-ab17-9a5acb33c7af",
                                    "3": "1",
                                    "4": "2020-10-10 09:14:54.690"
                                }
                            ]
                        },
                        "text/html": [
                            "<table>",
                            "<tr><th>JOB_KEY</th><th>name</th><th>job_id</th><th>JOB_STEP_COUNT</th><th>date_modified</th></tr>",
                            "<tr><td>159</td><td>CRM ETL</td><td>6a2926a7-e4cf-4dcb-a6f3-e4e7581b0eff</td><td>2</td><td>2020-10-13 06:01:38.393</td></tr>",
                            "<tr><td>113</td><td>DEMO 15-25 MINUTES</td><td>8e05469b-cd8b-47ce-9f84-1f83215be9c1</td><td>1</td><td>2020-10-15 06:19:15.333</td></tr>",
                            "<tr><td>155</td><td>DEMO FOR SQL AGENT DATA MART</td><td>967696b7-b0fe-48ad-a216-8ee2cb7aa6fb</td><td>3</td><td>2020-10-15 05:40:10.767</td></tr>",
                            "<tr><td>160</td><td>ONE-TWO-MINUTE-JOB</td><td>03110e3d-571e-498f-8db3-aa1eb650a475</td><td>2</td><td>2020-10-16 06:15:30.793</td></tr>",
                            "<tr><td>64</td><td>PROCESS CRM CUBE</td><td>b61d15a8-3fd8-4a69-826d-c46e4f4b10cb</td><td>2</td><td>2020-10-13 06:02:55.457</td></tr>",
                            "<tr><td>62</td><td>REFRESH CRM DASHBOARD</td><td>2bddfb10-668f-44f2-b2ad-8b2845151dc6</td><td>1</td><td>2020-10-13 05:59:20.770</td></tr>",
                            "<tr><td>103</td><td>REFRESH EXECUTIVE DASHBOARD</td><td>b0a5aa37-9ea5-41ed-9143-b8122fdd5d88</td><td>1</td><td>2020-10-14 05:18:18.060</td></tr>",
                            "<tr><td>40</td><td>TEST sysjobactivity QUERY</td><td>6a57c77c-558e-44b0-ab17-9a5acb33c7af</td><td>1</td><td>2020-10-10 09:14:54.690</td></tr>",
                            "</table>"
                        ]
                    }
                }
            ],
            "execution_count": 7
        },
        {
            "cell_type": "markdown",
            "source": [
                "Show the average duration of each job step."
            ],
            "metadata": {
                "azdata_cell_guid": "ac130267-45d6-43e8-b638-acc75747e646"
            }
        },
        {
            "cell_type": "code",
            "source": [
                "SELECT *\r\n",
                "FROM  [dbo].[JOB_STEP_AVERAGE_DURATION]\r\n",
                "WHERE [JOB_KEY] = 160;\r\n",
                ""
            ],
            "metadata": {
                "azdata_cell_guid": "b164b1c9-aa4b-4ed0-9644-adb81064f5ab"
            },
            "outputs": [
                {
                    "output_type": "display_data",
                    "data": {
                        "text/html": "(2 rows affected)"
                    },
                    "metadata": {}
                },
                {
                    "output_type": "display_data",
                    "data": {
                        "text/html": "Total execution time: 00:00:00.010"
                    },
                    "metadata": {}
                },
                {
                    "output_type": "execute_result",
                    "metadata": {},
                    "execution_count": 6,
                    "data": {
                        "application/vnd.dataresource+json": {
                            "schema": {
                                "fields": [
                                    {
                                        "name": "JOB_KEY"
                                    },
                                    {
                                        "name": "step_id"
                                    },
                                    {
                                        "name": "TOTAL_STEP_COUNT"
                                    },
                                    {
                                        "name": "TOTAL_STEP_DURATION"
                                    },
                                    {
                                        "name": "AVERAGE_STEP_DURATION"
                                    }
                                ]
                            },
                            "data": [
                                {
                                    "0": "160",
                                    "1": "1",
                                    "2": "4",
                                    "3": "241",
                                    "4": "60"
                                },
                                {
                                    "0": "160",
                                    "1": "2",
                                    "2": "4",
                                    "3": "240",
                                    "4": "60"
                                }
                            ]
                        },
                        "text/html": [
                            "<table>",
                            "<tr><th>JOB_KEY</th><th>step_id</th><th>TOTAL_STEP_COUNT</th><th>TOTAL_STEP_DURATION</th><th>AVERAGE_STEP_DURATION</th></tr>",
                            "<tr><td>160</td><td>1</td><td>4</td><td>241</td><td>60</td></tr>",
                            "<tr><td>160</td><td>2</td><td>4</td><td>240</td><td>60</td></tr>",
                            "</table>"
                        ]
                    }
                }
            ],
            "execution_count": 6
        }
    ]
}